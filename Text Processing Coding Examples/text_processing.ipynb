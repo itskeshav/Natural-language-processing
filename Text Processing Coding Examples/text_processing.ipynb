{
 "cells": [
  {
   "cell_type": "markdown",
   "metadata": {},
   "source": [
    "# Text Processing\n",
    "\n",
    "## Capturing Text Data\n",
    "\n",
    "### Plain Text"
   ]
  },
  {
   "cell_type": "code",
   "execution_count": 1,
   "metadata": {},
   "outputs": [
    {
     "name": "stdout",
     "output_type": "stream",
     "text": [
      "Hieroglyphic writing dates from c. 3000 BC, and is composed of hundreds of symbols. A hieroglyph can represent a word, a sound, or a silent determinative; and the same symbol can serve different purposes in different contexts. Hieroglyphs were a formal script, used on stone monuments and in tombs, that could be as detailed as individual works of art.\n",
      "\n"
     ]
    }
   ],
   "source": [
    "import os\n",
    "\n",
    "# Read in a plain text file\n",
    "with open(os.path.join(\"data\", \"hieroglyph.txt\"), \"r\") as f:\n",
    "    text = f.read()\n",
    "    print(text)"
   ]
  },
  {
   "cell_type": "markdown",
   "metadata": {},
   "source": [
    "### Tabular Data"
   ]
  },
  {
   "cell_type": "code",
   "execution_count": 2,
   "metadata": {
    "scrolled": true
   },
   "outputs": [
    {
     "data": {
      "text/html": [
       "<div>\n",
       "<style scoped>\n",
       "    .dataframe tbody tr th:only-of-type {\n",
       "        vertical-align: middle;\n",
       "    }\n",
       "\n",
       "    .dataframe tbody tr th {\n",
       "        vertical-align: top;\n",
       "    }\n",
       "\n",
       "    .dataframe thead th {\n",
       "        text-align: right;\n",
       "    }\n",
       "</style>\n",
       "<table border=\"1\" class=\"dataframe\">\n",
       "  <thead>\n",
       "    <tr style=\"text-align: right;\">\n",
       "      <th></th>\n",
       "      <th>publisher</th>\n",
       "      <th>title</th>\n",
       "    </tr>\n",
       "  </thead>\n",
       "  <tbody>\n",
       "    <tr>\n",
       "      <th>0</th>\n",
       "      <td>Livemint</td>\n",
       "      <td>fed's charles plosser sees high bar for change...</td>\n",
       "    </tr>\n",
       "    <tr>\n",
       "      <th>1</th>\n",
       "      <td>IFA Magazine</td>\n",
       "      <td>us open: stocks fall after fed official hints ...</td>\n",
       "    </tr>\n",
       "    <tr>\n",
       "      <th>2</th>\n",
       "      <td>IFA Magazine</td>\n",
       "      <td>fed risks falling 'behind the curve', charles ...</td>\n",
       "    </tr>\n",
       "    <tr>\n",
       "      <th>3</th>\n",
       "      <td>Moneynews</td>\n",
       "      <td>fed's plosser: nasty weather has curbed job gr...</td>\n",
       "    </tr>\n",
       "    <tr>\n",
       "      <th>4</th>\n",
       "      <td>NASDAQ</td>\n",
       "      <td>plosser: fed may have to accelerate tapering pace</td>\n",
       "    </tr>\n",
       "  </tbody>\n",
       "</table>\n",
       "</div>"
      ],
      "text/plain": [
       "      publisher                                              title\n",
       "0      Livemint  fed's charles plosser sees high bar for change...\n",
       "1  IFA Magazine  us open: stocks fall after fed official hints ...\n",
       "2  IFA Magazine  fed risks falling 'behind the curve', charles ...\n",
       "3     Moneynews  fed's plosser: nasty weather has curbed job gr...\n",
       "4        NASDAQ  plosser: fed may have to accelerate tapering pace"
      ]
     },
     "execution_count": 2,
     "metadata": {},
     "output_type": "execute_result"
    }
   ],
   "source": [
    "import pandas as pd\n",
    "\n",
    "# Extract text column from a dataframe\n",
    "df = pd.read_csv(os.path.join(\"data\", \"news.csv\"))\n",
    "df.head()[['publisher', 'title']]\n",
    "\n",
    "# Convert text column to lowercase\n",
    "df['title'] = df['title'].str.lower()\n",
    "df.head()[['publisher', 'title']]"
   ]
  },
  {
   "cell_type": "markdown",
   "metadata": {},
   "source": [
    "### Online Resource"
   ]
  },
  {
   "cell_type": "code",
   "execution_count": null,
   "metadata": {
    "scrolled": true
   },
   "outputs": [],
   "source": [
    "import requests\n",
    "import json\n",
    "\n",
    "# Fetch data from a REST API\n",
    "r = requests.get(\n",
    "    \"https://quotes.rest/qod.json\")\n",
    "res = r.json()\n",
    "print(json.dumps(res, indent=4))\n",
    "\n",
    "# Extract relevant object and field\n",
    "q = res[\"contents\"][\"quotes\"][0]\n",
    "print(q[\"quote\"], \"\\n--\", q[\"author\"])"
   ]
  },
  {
   "cell_type": "markdown",
   "metadata": {},
   "source": [
    "## Cleaning"
   ]
  },
  {
   "cell_type": "code",
   "execution_count": 1,
   "metadata": {
    "scrolled": true
   },
   "outputs": [
    {
     "name": "stdout",
     "output_type": "stream",
     "text": [
      "<html lang=\"en\" op=\"news\"><head><meta name=\"referrer\" content=\"origin\"><meta name=\"viewport\" content=\"width=device-width, initial-scale=1.0\"><link rel=\"stylesheet\" type=\"text/css\" href=\"news.css?QnkoIDmmf0I46Ms4s8mx\">\n",
      "        <link rel=\"shortcut icon\" href=\"favicon.ico\">\n",
      "          <link rel=\"alternate\" type=\"application/rss+xml\" title=\"RSS\" href=\"rss\">\n",
      "        <title>Hacker News</title></head><body><center><table id=\"hnmain\" border=\"0\" cellpadding=\"0\" cellspacing=\"0\" width=\"85%\" bgcolor=\"#f6f6ef\">\n",
      "        <tr><td bgcolor=\"#ff6600\"><table border=\"0\" cellpadding=\"0\" cellspacing=\"0\" width=\"100%\" style=\"padding:2px\"><tr><td style=\"width:18px;padding-right:4px\"><a href=\"https://news.ycombinator.com\"><img src=\"y18.gif\" width=\"18\" height=\"18\" style=\"border:1px white solid;\"></a></td>\n",
      "                  <td style=\"line-height:12pt; height:10px;\"><span class=\"pagetop\"><b class=\"hnname\"><a href=\"news\">Hacker News</a></b>\n",
      "              <a href=\"newest\">new</a> | <a href=\"front\">past</a> | <a href=\"newcomments\">comments</a> | <a href=\"ask\">ask</a> | <a href=\"show\">show</a> | <a href=\"jobs\">jobs</a> | <a href=\"submit\">submit</a>            </span></td><td style=\"text-align:right;padding-right:4px;\"><span class=\"pagetop\">\n",
      "                              <a href=\"login?goto=news\">login</a>\n",
      "                          </span></td>\n",
      "              </tr></table></td></tr>\n",
      "<tr id=\"pagespace\" title=\"\" style=\"height:10px\"></tr><tr><td><table border=\"0\" cellpadding=\"0\" cellspacing=\"0\" class=\"itemlist\">\n",
      "              <tr class='athing' id='27103230'>\n",
      "      <td align=\"right\" valign=\"top\" class=\"title\"><span class=\"rank\">1.</span></td>      <td valign=\"top\" class=\"votelinks\"><center><a id='up_27103230' href='vote?id=27103230&amp;how=up&amp;goto=news'><div class='votearrow' title='upvote'></div></a></center></td><td class=\"title\"><a href=\"https://www.etymologynerd.com/blog/choices\" class=\"storylink\">The word “decide” has deadly origins</a><span class=\"sitebit comhead\"> (<a href=\"from?site=etymologynerd.com\"><span class=\"sitestr\">etymologynerd.com</span></a>)</span></td></tr><tr><td colspan=\"2\"></td><td class=\"subtext\">\n",
      "        <span class=\"score\" id=\"score_27103230\">151 points</span> by <a href=\"user?id=bribri\" class=\"hnuser\">bribri</a> <span class=\"age\"><a href=\"item?id=27103230\">4 hours ago</a></span> <span id=\"unv_27103230\"></span> | <a href=\"hide?id=27103230&amp;goto=news\">hide</a> | <a href=\"item?id=27103230\">46&nbsp;comments</a>              </td></tr>\n",
      "      <tr class=\"spacer\" style=\"height:5px\"></tr>\n",
      "                <tr class='athing' id='27100299'>\n",
      "      <td align=\"right\" valign=\"top\" class=\"title\"><span class=\"rank\">2.</span></td>      <td valign=\"top\" class=\"votelinks\"><center><a id='up_27100299' href='vote?id=27100299&amp;how=up&amp;goto=news'><div class='votearrow' title='upvote'></div></a></center></td><td class=\"title\"><a href=\"http://www.robinhobb.com/blog/posts/38429\" class=\"storylink\">The Animal Is Tired</a><span class=\"sitebit comhead\"> (<a href=\"from?site=robinhobb.com\"><span class=\"sitestr\">robinhobb.com</span></a>)</span></td></tr><tr><td colspan=\"2\"></td><td class=\"subtext\">\n",
      "        <span class=\"score\" id=\"score_27100299\">815 points</span> by <a href=\"user?id=montenegrohugo\" class=\"hnuser\">montenegrohugo</a> <span class=\"age\"><a href=\"item?id=27100299\">12 hours ago</a></span> <span id=\"unv_27100299\"></span> | <a href=\"hide?id=27100299&amp;goto=news\">hide</a> | <a href=\"item?id=27100299\">234&nbsp;comments</a>              </td></tr>\n",
      "      <tr class=\"spacer\" style=\"height:5px\"></tr>\n",
      "                <tr class='athing' id='27103033'>\n",
      "      <td align=\"right\" valign=\"top\" class=\"title\"><span class=\"rank\">3.</span></td>      <td valign=\"top\" class=\"votelinks\"><center><a id='up_27103033' href='vote?id=27103033&amp;how=up&amp;goto=news'><div class='votearrow' title='upvote'></div></a></center></td><td class=\"title\"><a href=\"https://blog.frankel.ch/teeing-java-api/\" class=\"storylink\">Teeing, a hidden gem in the Java API</a><span class=\"sitebit comhead\"> (<a href=\"from?site=frankel.ch\"><span class=\"sitestr\">frankel.ch</span></a>)</span></td></tr><tr><td colspan=\"2\"></td><td class=\"subtext\">\n",
      "        <span class=\"score\" id=\"score_27103033\">138 points</span> by <a href=\"user?id=sidcool\" class=\"hnuser\">sidcool</a> <span class=\"age\"><a href=\"item?id=27103033\">5 hours ago</a></span> <span id=\"unv_27103033\"></span> | <a href=\"hide?id=27103033&amp;goto=news\">hide</a> | <a href=\"item?id=27103033\">40&nbsp;comments</a>              </td></tr>\n",
      "      <tr class=\"spacer\" style=\"height:5px\"></tr>\n",
      "                <tr class='athing' id='27103827'>\n",
      "      <td align=\"right\" valign=\"top\" class=\"title\"><span class=\"rank\">4.</span></td>      <td valign=\"top\" class=\"votelinks\"><center><a id='up_27103827' href='vote?id=27103827&amp;how=up&amp;goto=news'><div class='votearrow' title='upvote'></div></a></center></td><td class=\"title\"><a href=\"https://voicedocs.com/en\" class=\"storylink\">Automatically transcribe an interview, meeting or video</a><span class=\"sitebit comhead\"> (<a href=\"from?site=voicedocs.com\"><span class=\"sitestr\">voicedocs.com</span></a>)</span></td></tr><tr><td colspan=\"2\"></td><td class=\"subtext\">\n",
      "        <span class=\"score\" id=\"score_27103827\">31 points</span> by <a href=\"user?id=MajidMM\" class=\"hnuser\">MajidMM</a> <span class=\"age\"><a href=\"item?id=27103827\">2 hours ago</a></span> <span id=\"unv_27103827\"></span> | <a href=\"hide?id=27103827&amp;goto=news\">hide</a> | <a href=\"item?id=27103827\">27&nbsp;comments</a>              </td></tr>\n",
      "      <tr class=\"spacer\" style=\"height:5px\"></tr>\n",
      "                <tr class='athing' id='27099536'>\n",
      "      <td align=\"right\" valign=\"top\" class=\"title\"><span class=\"rank\">5.</span></td>      <td valign=\"top\" class=\"votelinks\"><center><a id='up_27099536' href='vote?id=27099536&amp;how=up&amp;goto=news'><div class='votearrow' title='upvote'></div></a></center></td><td class=\"title\"><a href=\"https://www.lynalden.com/inflation/\" class=\"storylink\">The Ultimate Guide to Inflation</a><span class=\"sitebit comhead\"> (<a href=\"from?site=lynalden.com\"><span class=\"sitestr\">lynalden.com</span></a>)</span></td></tr><tr><td colspan=\"2\"></td><td class=\"subtext\">\n",
      "        <span class=\"score\" id=\"score_27099536\">542 points</span> by <a href=\"user?id=jger15\" class=\"hnuser\">jger15</a> <span class=\"age\"><a href=\"item?id=27099536\">14 hours ago</a></span> <span id=\"unv_27099536\"></span> | <a href=\"hide?id=27099536&amp;goto=news\">hide</a> | <a href=\"item?id=27099536\">264&nbsp;comments</a>              </td></tr>\n",
      "      <tr class=\"spacer\" style=\"height:5px\"></tr>\n",
      "                <tr class='athing' id='27101805'>\n",
      "      <td align=\"right\" valign=\"top\" class=\"title\"><span class=\"rank\">6.</span></td>      <td valign=\"top\" class=\"votelinks\"><center><a id='up_27101805' href='vote?id=27101805&amp;how=up&amp;goto=news'><div class='votearrow' title='upvote'></div></a></center></td><td class=\"title\"><a href=\"https://henrikwarne.com/2012/06/02/why-i-love-coding/\" class=\"storylink\">Why I Love Coding (2012)</a><span class=\"sitebit comhead\"> (<a href=\"from?site=henrikwarne.com\"><span class=\"sitestr\">henrikwarne.com</span></a>)</span></td></tr><tr><td colspan=\"2\"></td><td class=\"subtext\">\n",
      "        <span class=\"score\" id=\"score_27101805\">152 points</span> by <a href=\"user?id=spideymans\" class=\"hnuser\">spideymans</a> <span class=\"age\"><a href=\"item?id=27101805\">9 hours ago</a></span> <span id=\"unv_27101805\"></span> | <a href=\"hide?id=27101805&amp;goto=news\">hide</a> | <a href=\"item?id=27101805\">52&nbsp;comments</a>              </td></tr>\n",
      "      <tr class=\"spacer\" style=\"height:5px\"></tr>\n",
      "                <tr class='athing' id='27100611'>\n",
      "      <td align=\"right\" valign=\"top\" class=\"title\"><span class=\"rank\">7.</span></td>      <td valign=\"top\" class=\"votelinks\"><center><a id='up_27100611' href='vote?id=27100611&amp;how=up&amp;goto=news'><div class='votearrow' title='upvote'></div></a></center></td><td class=\"title\"><a href=\"https://www.theverge.com/2021/5/9/22427811/simple-bbva-transition-errors-bank-shutdown\" class=\"storylink\">Simple bank shutdown goes awry, leaving customers without account access</a><span class=\"sitebit comhead\"> (<a href=\"from?site=theverge.com\"><span class=\"sitestr\">theverge.com</span></a>)</span></td></tr><tr><td colspan=\"2\"></td><td class=\"subtext\">\n",
      "        <span class=\"score\" id=\"score_27100611\">200 points</span> by <a href=\"user?id=Kye\" class=\"hnuser\">Kye</a> <span class=\"age\"><a href=\"item?id=27100611\">12 hours ago</a></span> <span id=\"unv_27100611\"></span> | <a href=\"hide?id=27100611&amp;goto=news\">hide</a> | <a href=\"item?id=27100611\">125&nbsp;comments</a>              </td></tr>\n",
      "      <tr class=\"spacer\" style=\"height:5px\"></tr>\n",
      "                <tr class='athing' id='27103978'>\n",
      "      <td align=\"right\" valign=\"top\" class=\"title\"><span class=\"rank\">8.</span></td>      <td valign=\"top\" class=\"votelinks\"><center><a id='up_27103978' href='vote?id=27103978&amp;how=up&amp;goto=news'><div class='votearrow' title='upvote'></div></a></center></td><td class=\"title\"><a href=\"https://behavioralscientist.org/why-arent-text-message-interventions-designed-to-boost-college-success-working-at-scale/\" class=\"storylink\">Why Aren’t SMS Interventions Designed to Boost College Success Working at Scale?</a><span class=\"sitebit comhead\"> (<a href=\"from?site=behavioralscientist.org\"><span class=\"sitestr\">behavioralscientist.org</span></a>)</span></td></tr><tr><td colspan=\"2\"></td><td class=\"subtext\">\n",
      "        <span class=\"score\" id=\"score_27103978\">13 points</span> by <a href=\"user?id=vitabenes\" class=\"hnuser\">vitabenes</a> <span class=\"age\"><a href=\"item?id=27103978\">2 hours ago</a></span> <span id=\"unv_27103978\"></span> | <a href=\"hide?id=27103978&amp;goto=news\">hide</a> | <a href=\"item?id=27103978\">4&nbsp;comments</a>              </td></tr>\n",
      "      <tr class=\"spacer\" style=\"height:5px\"></tr>\n",
      "                <tr class='athing' id='27102584'>\n",
      "      <td align=\"right\" valign=\"top\" class=\"title\"><span class=\"rank\">9.</span></td>      <td valign=\"top\" class=\"votelinks\"><center><a id='up_27102584' href='vote?id=27102584&amp;how=up&amp;goto=news'><div class='votearrow' title='upvote'></div></a></center></td><td class=\"title\"><a href=\"https://github.com/dlang/dmd/pull/12507\" class=\"storylink\">Adding ANSI C11 C compiler to D so it can import and compile C files directly</a><span class=\"sitebit comhead\"> (<a href=\"from?site=github.com/dlang\"><span class=\"sitestr\">github.com/dlang</span></a>)</span></td></tr><tr><td colspan=\"2\"></td><td class=\"subtext\">\n",
      "        <span class=\"score\" id=\"score_27102584\">78 points</span> by <a href=\"user?id=ingve\" class=\"hnuser\">ingve</a> <span class=\"age\"><a href=\"item?id=27102584\">6 hours ago</a></span> <span id=\"unv_27102584\"></span> | <a href=\"hide?id=27102584&amp;goto=news\">hide</a> | <a href=\"item?id=27102584\">39&nbsp;comments</a>              </td></tr>\n",
      "      <tr class=\"spacer\" style=\"height:5px\"></tr>\n",
      "                <tr class='athing' id='27097719'>\n",
      "      <td align=\"right\" valign=\"top\" class=\"title\"><span class=\"rank\">10.</span></td>      <td valign=\"top\" class=\"votelinks\"><center><a id='up_27097719' href='vote?id=27097719&amp;how=up&amp;goto=news'><div class='votearrow' title='upvote'></div></a></center></td><td class=\"title\"><a href=\"https://www.dogatekin.com/blog/hypnotic-degenerate-spirals/\" class=\"storylink\">The Hypnotic World of Degenerate Spirals</a><span class=\"sitebit comhead\"> (<a href=\"from?site=dogatekin.com\"><span class=\"sitestr\">dogatekin.com</span></a>)</span></td></tr><tr><td colspan=\"2\"></td><td class=\"subtext\">\n",
      "        <span class=\"score\" id=\"score_27097719\">165 points</span> by <a href=\"user?id=thetrustworthy\" class=\"hnuser\">thetrustworthy</a> <span class=\"age\"><a href=\"item?id=27097719\">12 hours ago</a></span> <span id=\"unv_27097719\"></span> | <a href=\"hide?id=27097719&amp;goto=news\">hide</a> | <a href=\"item?id=27097719\">27&nbsp;comments</a>              </td></tr>\n",
      "      <tr class=\"spacer\" style=\"height:5px\"></tr>\n",
      "                <tr class='athing' id='27103049'>\n",
      "      <td align=\"right\" valign=\"top\" class=\"title\"><span class=\"rank\">11.</span></td>      <td valign=\"top\" class=\"votelinks\"><center><a id='up_27103049' href='vote?id=27103049&amp;how=up&amp;goto=news'><div class='votearrow' title='upvote'></div></a></center></td><td class=\"title\"><a href=\"https://pypi.org/project/windyquery/\" class=\"storylink\">Windyquery: A non-blocking Python PostgreSQL query builder</a><span class=\"sitebit comhead\"> (<a href=\"from?site=pypi.org\"><span class=\"sitestr\">pypi.org</span></a>)</span></td></tr><tr><td colspan=\"2\"></td><td class=\"subtext\">\n",
      "        <span class=\"score\" id=\"score_27103049\">31 points</span> by <a href=\"user?id=asiftr\" class=\"hnuser\">asiftr</a> <span class=\"age\"><a href=\"item?id=27103049\">5 hours ago</a></span> <span id=\"unv_27103049\"></span> | <a href=\"hide?id=27103049&amp;goto=news\">hide</a> | <a href=\"item?id=27103049\">17&nbsp;comments</a>              </td></tr>\n",
      "      <tr class=\"spacer\" style=\"height:5px\"></tr>\n",
      "                <tr class='athing' id='27101092'>\n",
      "      <td align=\"right\" valign=\"top\" class=\"title\"><span class=\"rank\">12.</span></td>      <td valign=\"top\" class=\"votelinks\"><center><a id='up_27101092' href='vote?id=27101092&amp;how=up&amp;goto=news'><div class='votearrow' title='upvote'></div></a></center></td><td class=\"title\"><a href=\"https://www.bbc.com/news/business-57050690\" class=\"storylink\">US passes emergency waiver over fuel pipeline cyber-attack</a><span class=\"sitebit comhead\"> (<a href=\"from?site=bbc.com\"><span class=\"sitestr\">bbc.com</span></a>)</span></td></tr><tr><td colspan=\"2\"></td><td class=\"subtext\">\n",
      "        <span class=\"score\" id=\"score_27101092\">544 points</span> by <a href=\"user?id=selfsimilar\" class=\"hnuser\">selfsimilar</a> <span class=\"age\"><a href=\"item?id=27101092\">11 hours ago</a></span> <span id=\"unv_27101092\"></span> | <a href=\"hide?id=27101092&amp;goto=news\">hide</a> | <a href=\"item?id=27101092\">362&nbsp;comments</a>              </td></tr>\n",
      "      <tr class=\"spacer\" style=\"height:5px\"></tr>\n",
      "                <tr class='athing' id='27100272'>\n",
      "      <td align=\"right\" valign=\"top\" class=\"title\"><span class=\"rank\">13.</span></td>      <td valign=\"top\" class=\"votelinks\"><center><a id='up_27100272' href='vote?id=27100272&amp;how=up&amp;goto=news'><div class='votearrow' title='upvote'></div></a></center></td><td class=\"title\"><a href=\"http://objective.st/\" class=\"storylink\">Objective-S: architecture-oriented language based on Smalltalk and Objective-C</a><span class=\"sitebit comhead\"> (<a href=\"from?site=objective.st\"><span class=\"sitestr\">objective.st</span></a>)</span></td></tr><tr><td colspan=\"2\"></td><td class=\"subtext\">\n",
      "        <span class=\"score\" id=\"score_27100272\">93 points</span> by <a href=\"user?id=ingve\" class=\"hnuser\">ingve</a> <span class=\"age\"><a href=\"item?id=27100272\">12 hours ago</a></span> <span id=\"unv_27100272\"></span> | <a href=\"hide?id=27100272&amp;goto=news\">hide</a> | <a href=\"item?id=27100272\">32&nbsp;comments</a>              </td></tr>\n",
      "      <tr class=\"spacer\" style=\"height:5px\"></tr>\n",
      "                <tr class='athing' id='27098999'>\n",
      "      <td align=\"right\" valign=\"top\" class=\"title\"><span class=\"rank\">14.</span></td>      <td valign=\"top\" class=\"votelinks\"><center><a id='up_27098999' href='vote?id=27098999&amp;how=up&amp;goto=news'><div class='votearrow' title='upvote'></div></a></center></td><td class=\"title\"><a href=\"https://gaudi.ch/PocketPCR/\" class=\"storylink\">PocketPCR</a><span class=\"sitebit comhead\"> (<a href=\"from?site=gaudi.ch\"><span class=\"sitestr\">gaudi.ch</span></a>)</span></td></tr><tr><td colspan=\"2\"></td><td class=\"subtext\">\n",
      "        <span class=\"score\" id=\"score_27098999\">109 points</span> by <a href=\"user?id=_Microft\" class=\"hnuser\">_Microft</a> <span class=\"age\"><a href=\"item?id=27098999\">15 hours ago</a></span> <span id=\"unv_27098999\"></span> | <a href=\"hide?id=27098999&amp;goto=news\">hide</a> | <a href=\"item?id=27098999\">24&nbsp;comments</a>              </td></tr>\n",
      "      <tr class=\"spacer\" style=\"height:5px\"></tr>\n",
      "                <tr class='athing' id='27095558'>\n",
      "      <td align=\"right\" valign=\"top\" class=\"title\"><span class=\"rank\">15.</span></td>      <td valign=\"top\" class=\"votelinks\"><center><a id='up_27095558' href='vote?id=27095558&amp;how=up&amp;goto=news'><div class='votearrow' title='upvote'></div></a></center></td><td class=\"title\"><a href=\"https://www.cnbc.com/2021/05/07/chip-shortage-is-starting-to-have-major-real-world-consequences.html\" class=\"storylink\">The global chip shortage is starting to have consequences</a><span class=\"sitebit comhead\"> (<a href=\"from?site=cnbc.com\"><span class=\"sitestr\">cnbc.com</span></a>)</span></td></tr><tr><td colspan=\"2\"></td><td class=\"subtext\">\n",
      "        <span class=\"score\" id=\"score_27095558\">559 points</span> by <a href=\"user?id=giuliomagnifico\" class=\"hnuser\">giuliomagnifico</a> <span class=\"age\"><a href=\"item?id=27095558\">21 hours ago</a></span> <span id=\"unv_27095558\"></span> | <a href=\"hide?id=27095558&amp;goto=news\">hide</a> | <a href=\"item?id=27095558\">636&nbsp;comments</a>              </td></tr>\n",
      "      <tr class=\"spacer\" style=\"height:5px\"></tr>\n",
      "                <tr class='athing' id='27104469'>\n",
      "      <td align=\"right\" valign=\"top\" class=\"title\"><span class=\"rank\">16.</span></td>      <td valign=\"top\" class=\"votelinks\"><center><a id='up_27104469' href='vote?id=27104469&amp;how=up&amp;goto=news'><div class='votearrow' title='upvote'></div></a></center></td><td class=\"title\"><a href=\"https://techblog.bozho.net/the-syslog-hell/\" class=\"storylink\" rel=\"nofollow\">The Syslog Hell</a><span class=\"sitebit comhead\"> (<a href=\"from?site=bozho.net\"><span class=\"sitestr\">bozho.net</span></a>)</span></td></tr><tr><td colspan=\"2\"></td><td class=\"subtext\">\n",
      "        <span class=\"score\" id=\"score_27104469\">5 points</span> by <a href=\"user?id=rdpintqogeogsaa\" class=\"hnuser\">rdpintqogeogsaa</a> <span class=\"age\"><a href=\"item?id=27104469\">34 minutes ago</a></span> <span id=\"unv_27104469\"></span> | <a href=\"hide?id=27104469&amp;goto=news\">hide</a> | <a href=\"item?id=27104469\">discuss</a>              </td></tr>\n",
      "      <tr class=\"spacer\" style=\"height:5px\"></tr>\n",
      "                <tr class='athing' id='27073735'>\n",
      "      <td align=\"right\" valign=\"top\" class=\"title\"><span class=\"rank\">17.</span></td>      <td valign=\"top\" class=\"votelinks\"><center><a id='up_27073735' href='vote?id=27073735&amp;how=up&amp;goto=news'><div class='votearrow' title='upvote'></div></a></center></td><td class=\"title\"><a href=\"https://lithub.com/who-is-public-data-really-for/\" class=\"storylink\">Who Is “Public” Data For?</a><span class=\"sitebit comhead\"> (<a href=\"from?site=lithub.com\"><span class=\"sitestr\">lithub.com</span></a>)</span></td></tr><tr><td colspan=\"2\"></td><td class=\"subtext\">\n",
      "        <span class=\"score\" id=\"score_27073735\">19 points</span> by <a href=\"user?id=zverok\" class=\"hnuser\">zverok</a> <span class=\"age\"><a href=\"item?id=27073735\">7 hours ago</a></span> <span id=\"unv_27073735\"></span> | <a href=\"hide?id=27073735&amp;goto=news\">hide</a> | <a href=\"item?id=27073735\">10&nbsp;comments</a>              </td></tr>\n",
      "      <tr class=\"spacer\" style=\"height:5px\"></tr>\n",
      "                <tr class='athing' id='27099969'>\n",
      "      <td align=\"right\" valign=\"top\" class=\"title\"><span class=\"rank\">18.</span></td>      <td valign=\"top\" class=\"votelinks\"><center><a id='up_27099969' href='vote?id=27099969&amp;how=up&amp;goto=news'><div class='votearrow' title='upvote'></div></a></center></td><td class=\"title\"><a href=\"https://www.bbc.com/worklife/article/20210507-why-we-glorify-the-cult-of-burnout-and-overwork\" class=\"storylink\">Why do we buy into the 'cult' of overwork?</a><span class=\"sitebit comhead\"> (<a href=\"from?site=bbc.com\"><span class=\"sitestr\">bbc.com</span></a>)</span></td></tr><tr><td colspan=\"2\"></td><td class=\"subtext\">\n",
      "        <span class=\"score\" id=\"score_27099969\">306 points</span> by <a href=\"user?id=pseudolus\" class=\"hnuser\">pseudolus</a> <span class=\"age\"><a href=\"item?id=27099969\">13 hours ago</a></span> <span id=\"unv_27099969\"></span> | <a href=\"hide?id=27099969&amp;goto=news\">hide</a> | <a href=\"item?id=27099969\">308&nbsp;comments</a>              </td></tr>\n",
      "      <tr class=\"spacer\" style=\"height:5px\"></tr>\n",
      "                <tr class='athing' id='27098948'>\n",
      "      <td align=\"right\" valign=\"top\" class=\"title\"><span class=\"rank\">19.</span></td>      <td valign=\"top\" class=\"votelinks\"><center><a id='up_27098948' href='vote?id=27098948&amp;how=up&amp;goto=news'><div class='votearrow' title='upvote'></div></a></center></td><td class=\"title\"><a href=\"http://vestoj.com/the-contemplative-life/\" class=\"storylink\">The Contemplative Life: the monastic cowl (2020)</a><span class=\"sitebit comhead\"> (<a href=\"from?site=vestoj.com\"><span class=\"sitestr\">vestoj.com</span></a>)</span></td></tr><tr><td colspan=\"2\"></td><td class=\"subtext\">\n",
      "        <span class=\"score\" id=\"score_27098948\">11 points</span> by <a href=\"user?id=one-possibility\" class=\"hnuser\">one-possibility</a> <span class=\"age\"><a href=\"item?id=27098948\">5 hours ago</a></span> <span id=\"unv_27098948\"></span> | <a href=\"hide?id=27098948&amp;goto=news\">hide</a> | <a href=\"item?id=27098948\">2&nbsp;comments</a>              </td></tr>\n",
      "      <tr class=\"spacer\" style=\"height:5px\"></tr>\n",
      "                <tr class='athing' id='27073217'>\n",
      "      <td align=\"right\" valign=\"top\" class=\"title\"><span class=\"rank\">20.</span></td>      <td valign=\"top\" class=\"votelinks\"><center><a id='up_27073217' href='vote?id=27073217&amp;how=up&amp;goto=news'><div class='votearrow' title='upvote'></div></a></center></td><td class=\"title\"><a href=\"https://github.com/shelljs/shelljs\" class=\"storylink\">Shelljs – Portable Unix shell commands for Node.js</a><span class=\"sitebit comhead\"> (<a href=\"from?site=github.com/shelljs\"><span class=\"sitestr\">github.com/shelljs</span></a>)</span></td></tr><tr><td colspan=\"2\"></td><td class=\"subtext\">\n",
      "        <span class=\"score\" id=\"score_27073217\">111 points</span> by <a href=\"user?id=chetangoti\" class=\"hnuser\">chetangoti</a> <span class=\"age\"><a href=\"item?id=27073217\">15 hours ago</a></span> <span id=\"unv_27073217\"></span> | <a href=\"hide?id=27073217&amp;goto=news\">hide</a> | <a href=\"item?id=27073217\">53&nbsp;comments</a>              </td></tr>\n",
      "      <tr class=\"spacer\" style=\"height:5px\"></tr>\n",
      "                <tr class='athing' id='27093385'>\n",
      "      <td align=\"right\" valign=\"top\" class=\"title\"><span class=\"rank\">21.</span></td>      <td valign=\"top\" class=\"votelinks\"><center><a id='up_27093385' href='vote?id=27093385&amp;how=up&amp;goto=news'><div class='votearrow' title='upvote'></div></a></center></td><td class=\"title\"><a href=\"https://www.historytoday.com/archive/review/lives-napoleon\" class=\"storylink\">The Lives of Napoleon</a><span class=\"sitebit comhead\"> (<a href=\"from?site=historytoday.com\"><span class=\"sitestr\">historytoday.com</span></a>)</span></td></tr><tr><td colspan=\"2\"></td><td class=\"subtext\">\n",
      "        <span class=\"score\" id=\"score_27093385\">23 points</span> by <a href=\"user?id=samclemens\" class=\"hnuser\">samclemens</a> <span class=\"age\"><a href=\"item?id=27093385\">8 hours ago</a></span> <span id=\"unv_27093385\"></span> | <a href=\"hide?id=27093385&amp;goto=news\">hide</a> | <a href=\"item?id=27093385\">16&nbsp;comments</a>              </td></tr>\n",
      "      <tr class=\"spacer\" style=\"height:5px\"></tr>\n",
      "                <tr class='athing' id='27097748'>\n",
      "      <td align=\"right\" valign=\"top\" class=\"title\"><span class=\"rank\">22.</span></td>      <td valign=\"top\" class=\"votelinks\"><center><a id='up_27097748' href='vote?id=27097748&amp;how=up&amp;goto=news'><div class='votearrow' title='upvote'></div></a></center></td><td class=\"title\"><a href=\"https://dsp.stackexchange.com/questions/6220/why-is-it-a-bad-idea-to-filter-by-zeroing-out-fft-bins/\" class=\"storylink\">Why is it a bad idea to filter by zeroing out FFT bins? (2020)</a><span class=\"sitebit comhead\"> (<a href=\"from?site=stackexchange.com\"><span class=\"sitestr\">stackexchange.com</span></a>)</span></td></tr><tr><td colspan=\"2\"></td><td class=\"subtext\">\n",
      "        <span class=\"score\" id=\"score_27097748\">74 points</span> by <a href=\"user?id=bcaa7f3a8bbc\" class=\"hnuser\">bcaa7f3a8bbc</a> <span class=\"age\"><a href=\"item?id=27097748\">15 hours ago</a></span> <span id=\"unv_27097748\"></span> | <a href=\"hide?id=27097748&amp;goto=news\">hide</a> | <a href=\"item?id=27097748\">33&nbsp;comments</a>              </td></tr>\n",
      "      <tr class=\"spacer\" style=\"height:5px\"></tr>\n",
      "                <tr class='athing' id='27084333'>\n",
      "      <td align=\"right\" valign=\"top\" class=\"title\"><span class=\"rank\">23.</span></td>      <td valign=\"top\" class=\"votelinks\"><center><a id='up_27084333' href='vote?id=27084333&amp;how=up&amp;goto=news'><div class='votearrow' title='upvote'></div></a></center></td><td class=\"title\"><a href=\"https://www.rondb.com/\" class=\"storylink\">Show HN: RonDB – fast key-value database in the cloud</a><span class=\"sitebit comhead\"> (<a href=\"from?site=rondb.com\"><span class=\"sitestr\">rondb.com</span></a>)</span></td></tr><tr><td colspan=\"2\"></td><td class=\"subtext\">\n",
      "        <span class=\"score\" id=\"score_27084333\">98 points</span> by <a href=\"user?id=jamesblonde\" class=\"hnuser\">jamesblonde</a> <span class=\"age\"><a href=\"item?id=27084333\">14 hours ago</a></span> <span id=\"unv_27084333\"></span> | <a href=\"hide?id=27084333&amp;goto=news\">hide</a> | <a href=\"item?id=27084333\">31&nbsp;comments</a>              </td></tr>\n",
      "      <tr class=\"spacer\" style=\"height:5px\"></tr>\n",
      "                <tr class='athing' id='27098978'>\n",
      "      <td align=\"right\" valign=\"top\" class=\"title\"><span class=\"rank\">24.</span></td>      <td valign=\"top\" class=\"votelinks\"><center><a id='up_27098978' href='vote?id=27098978&amp;how=up&amp;goto=news'><div class='votearrow' title='upvote'></div></a></center></td><td class=\"title\"><a href=\"https://emergencemagazine.org/essay/eleven-ways/\" class=\"storylink\">Eleven Ways of Smelling a Tree (2020)</a><span class=\"sitebit comhead\"> (<a href=\"from?site=emergencemagazine.org\"><span class=\"sitestr\">emergencemagazine.org</span></a>)</span></td></tr><tr><td colspan=\"2\"></td><td class=\"subtext\">\n",
      "        <span class=\"score\" id=\"score_27098978\">44 points</span> by <a href=\"user?id=royalroad\" class=\"hnuser\">royalroad</a> <span class=\"age\"><a href=\"item?id=27098978\">11 hours ago</a></span> <span id=\"unv_27098978\"></span> | <a href=\"hide?id=27098978&amp;goto=news\">hide</a> | <a href=\"item?id=27098978\">7&nbsp;comments</a>              </td></tr>\n",
      "      <tr class=\"spacer\" style=\"height:5px\"></tr>\n",
      "                <tr class='athing' id='27103635'>\n",
      "      <td align=\"right\" valign=\"top\" class=\"title\"><span class=\"rank\">25.</span></td>      <td valign=\"top\" class=\"votelinks\"><center><a id='up_27103635' href='vote?id=27103635&amp;how=up&amp;goto=news'><div class='votearrow' title='upvote'></div></a></center></td><td class=\"title\"><a href=\"https://daniel.haxx.se/blog/2021/05/10/the-libcurl-transfer-state-machine/\" class=\"storylink\">The Libcurl Transfer State Machine</a><span class=\"sitebit comhead\"> (<a href=\"from?site=haxx.se\"><span class=\"sitestr\">haxx.se</span></a>)</span></td></tr><tr><td colspan=\"2\"></td><td class=\"subtext\">\n",
      "        <span class=\"score\" id=\"score_27103635\">27 points</span> by <a href=\"user?id=TangerineDream\" class=\"hnuser\">TangerineDream</a> <span class=\"age\"><a href=\"item?id=27103635\">3 hours ago</a></span> <span id=\"unv_27103635\"></span> | <a href=\"hide?id=27103635&amp;goto=news\">hide</a> | <a href=\"item?id=27103635\">3&nbsp;comments</a>              </td></tr>\n",
      "      <tr class=\"spacer\" style=\"height:5px\"></tr>\n",
      "                <tr class='athing' id='27095674'>\n",
      "      <td align=\"right\" valign=\"top\" class=\"title\"><span class=\"rank\">26.</span></td>      <td valign=\"top\" class=\"votelinks\"><center><a id='up_27095674' href='vote?id=27095674&amp;how=up&amp;goto=news'><div class='votearrow' title='upvote'></div></a></center></td><td class=\"title\"><a href=\"https://www.pagetable.com/?p=1518\" class=\"storylink\">Commodore’s Assemblers: Overview</a><span class=\"sitebit comhead\"> (<a href=\"from?site=pagetable.com\"><span class=\"sitestr\">pagetable.com</span></a>)</span></td></tr><tr><td colspan=\"2\"></td><td class=\"subtext\">\n",
      "        <span class=\"score\" id=\"score_27095674\">48 points</span> by <a href=\"user?id=ingve\" class=\"hnuser\">ingve</a> <span class=\"age\"><a href=\"item?id=27095674\">7 hours ago</a></span> <span id=\"unv_27095674\"></span> | <a href=\"hide?id=27095674&amp;goto=news\">hide</a> | <a href=\"item?id=27095674\">7&nbsp;comments</a>              </td></tr>\n",
      "      <tr class=\"spacer\" style=\"height:5px\"></tr>\n",
      "                <tr class='athing' id='27099025'>\n",
      "      <td align=\"right\" valign=\"top\" class=\"title\"><span class=\"rank\">27.</span></td>      <td valign=\"top\" class=\"votelinks\"><center><a id='up_27099025' href='vote?id=27099025&amp;how=up&amp;goto=news'><div class='votearrow' title='upvote'></div></a></center></td><td class=\"title\"><a href=\"https://dataswamp.org/~solene/2021-05-09-introduction-to-security.html\" class=\"storylink\">Introduction to Security Good Practices</a><span class=\"sitebit comhead\"> (<a href=\"from?site=dataswamp.org\"><span class=\"sitestr\">dataswamp.org</span></a>)</span></td></tr><tr><td colspan=\"2\"></td><td class=\"subtext\">\n",
      "        <span class=\"score\" id=\"score_27099025\">88 points</span> by <a href=\"user?id=zdw\" class=\"hnuser\">zdw</a> <span class=\"age\"><a href=\"item?id=27099025\">15 hours ago</a></span> <span id=\"unv_27099025\"></span> | <a href=\"hide?id=27099025&amp;goto=news\">hide</a> | <a href=\"item?id=27099025\">16&nbsp;comments</a>              </td></tr>\n",
      "      <tr class=\"spacer\" style=\"height:5px\"></tr>\n",
      "                <tr class='athing' id='27073611'>\n",
      "      <td align=\"right\" valign=\"top\" class=\"title\"><span class=\"rank\">28.</span></td>      <td valign=\"top\" class=\"votelinks\"><center><a id='up_27073611' href='vote?id=27073611&amp;how=up&amp;goto=news'><div class='votearrow' title='upvote'></div></a></center></td><td class=\"title\"><a href=\"https://aapt.scitation.org/doi/10.1119/1.4755847\" class=\"storylink\">Editorial: Creativity Lost (1978)</a><span class=\"sitebit comhead\"> (<a href=\"from?site=scitation.org\"><span class=\"sitestr\">scitation.org</span></a>)</span></td></tr><tr><td colspan=\"2\"></td><td class=\"subtext\">\n",
      "        <span class=\"score\" id=\"score_27073611\">15 points</span> by <a href=\"user?id=agarttha\" class=\"hnuser\">agarttha</a> <span class=\"age\"><a href=\"item?id=27073611\">7 hours ago</a></span> <span id=\"unv_27073611\"></span> | <a href=\"hide?id=27073611&amp;goto=news\">hide</a> | <a href=\"item?id=27073611\">discuss</a>              </td></tr>\n",
      "      <tr class=\"spacer\" style=\"height:5px\"></tr>\n",
      "                <tr class='athing' id='27101808'>\n",
      "      <td align=\"right\" valign=\"top\" class=\"title\"><span class=\"rank\">29.</span></td>      <td valign=\"top\" class=\"votelinks\"><center><a id='up_27101808' href='vote?id=27101808&amp;how=up&amp;goto=news'><div class='votearrow' title='upvote'></div></a></center></td><td class=\"title\"><a href=\"https://www.simplermachines.com/the-mortifying-ordeal-of-pairing-all-day/\" class=\"storylink\">The mortifying ordeal of pairing all day</a><span class=\"sitebit comhead\"> (<a href=\"from?site=simplermachines.com\"><span class=\"sitestr\">simplermachines.com</span></a>)</span></td></tr><tr><td colspan=\"2\"></td><td class=\"subtext\">\n",
      "        <span class=\"score\" id=\"score_27101808\">120 points</span> by <a href=\"user?id=tomcam\" class=\"hnuser\">tomcam</a> <span class=\"age\"><a href=\"item?id=27101808\">9 hours ago</a></span> <span id=\"unv_27101808\"></span> | <a href=\"hide?id=27101808&amp;goto=news\">hide</a> | <a href=\"item?id=27101808\">89&nbsp;comments</a>              </td></tr>\n",
      "      <tr class=\"spacer\" style=\"height:5px\"></tr>\n",
      "                <tr class='athing' id='27099695'>\n",
      "      <td align=\"right\" valign=\"top\" class=\"title\"><span class=\"rank\">30.</span></td>      <td></td><td class=\"title\"><a href=\"https://jobs.lever.co/buildzoom\" class=\"storylink\" rel=\"nofollow\">BuildZoom (better way to build custom homes) is hiring a Principal Engineer</a><span class=\"sitebit comhead\"> (<a href=\"from?site=lever.co\"><span class=\"sitestr\">lever.co</span></a>)</span></td></tr><tr><td colspan=\"2\"></td><td class=\"subtext\">\n",
      "        <span class=\"age\"><a href=\"item?id=27099695\">14 hours ago</a></span> | <a href=\"hide?id=27099695&amp;goto=news\">hide</a>      </td></tr>\n",
      "      <tr class=\"spacer\" style=\"height:5px\"></tr>\n",
      "            <tr class=\"morespace\" style=\"height:10px\"></tr><tr><td colspan=\"2\"></td><td class=\"title\"><a href=\"news?p=2\" class=\"morelink\" rel=\"next\">More</a></td></tr>\n",
      "  </table>\n",
      "</td></tr>\n",
      "<tr><td><img src=\"s.gif\" height=\"10\" width=\"0\"><table width=\"100%\" cellspacing=\"0\" cellpadding=\"1\"><tr><td bgcolor=\"#ff6600\"></td></tr></table><br><center><span class=\"yclinks\"><a href=\"newsguidelines.html\">Guidelines</a>\n",
      "        | <a href=\"newsfaq.html\">FAQ</a>\n",
      "        | <a href=\"lists\">Lists</a>\n",
      "        | <a href=\"https://github.com/HackerNews/API\">API</a>\n",
      "        | <a href=\"security.html\">Security</a>\n",
      "        | <a href=\"http://www.ycombinator.com/legal/\">Legal</a>\n",
      "        | <a href=\"http://www.ycombinator.com/apply/\">Apply to YC</a>\n",
      "        | <a href=\"mailto:hn@ycombinator.com\">Contact</a></span><br><br><form method=\"get\" action=\"//hn.algolia.com/\">Search:\n",
      "          <input type=\"text\" name=\"q\" value=\"\" size=\"17\" autocorrect=\"off\" spellcheck=\"false\" autocapitalize=\"off\" autocomplete=\"false\"></form>\n",
      "            </center></td></tr>\n",
      "      </table></center></body><script type='text/javascript' src='hn.js?QnkoIDmmf0I46Ms4s8mx'></script></html>\n",
      "\n"
     ]
    }
   ],
   "source": [
    "import requests\n",
    "\n",
    "# Fetch a web page\n",
    "r = requests.get(\"https://news.ycombinator.com\")\n",
    "print(r.text)"
   ]
  },
  {
   "cell_type": "code",
   "execution_count": 2,
   "metadata": {},
   "outputs": [
    {
     "name": "stdout",
     "output_type": "stream",
     "text": [
      "\n",
      "        \n",
      "          \n",
      "        Hacker News\n",
      "        \n",
      "                  Hacker News\n",
      "              new | past | comments | ask | show | jobs | submit            \n",
      "                              login\n",
      "                          \n",
      "              \n",
      "\n",
      "              \n",
      "      1.      The word “decide” has deadly origins (etymologynerd.com)\n",
      "        151 points by bribri 4 hours ago  | hide | 46&nbsp;comments              \n",
      "      \n",
      "                \n",
      "      2.      The Animal Is Tired (robinhobb.com)\n",
      "        815 points by montenegrohugo 12 hours ago  | hide | 234&nbsp;comments              \n",
      "      \n",
      "                \n",
      "      3.      Teeing, a hidden gem in the Java API (frankel.ch)\n",
      "        138 points by sidcool 5 hours ago  | hide | 40&nbsp;comments              \n",
      "      \n",
      "                \n",
      "      4.      Automatically transcribe an interview, meeting or video (voicedocs.com)\n",
      "        31 points by MajidMM 2 hours ago  | hide | 27&nbsp;comments              \n",
      "      \n",
      "                \n",
      "      5.      The Ultimate Guide to Inflation (lynalden.com)\n",
      "        542 points by jger15 14 hours ago  | hide | 264&nbsp;comments              \n",
      "      \n",
      "                \n",
      "      6.      Why I Love Coding (2012) (henrikwarne.com)\n",
      "        152 points by spideymans 9 hours ago  | hide | 52&nbsp;comments              \n",
      "      \n",
      "                \n",
      "      7.      Simple bank shutdown goes awry, leaving customers without account access (theverge.com)\n",
      "        200 points by Kye 12 hours ago  | hide | 125&nbsp;comments              \n",
      "      \n",
      "                \n",
      "      8.      Why Aren’t SMS Interventions Designed to Boost College Success Working at Scale? (behavioralscientist.org)\n",
      "        13 points by vitabenes 2 hours ago  | hide | 4&nbsp;comments              \n",
      "      \n",
      "                \n",
      "      9.      Adding ANSI C11 C compiler to D so it can import and compile C files directly (github.com/dlang)\n",
      "        78 points by ingve 6 hours ago  | hide | 39&nbsp;comments              \n",
      "      \n",
      "                \n",
      "      10.      The Hypnotic World of Degenerate Spirals (dogatekin.com)\n",
      "        165 points by thetrustworthy 12 hours ago  | hide | 27&nbsp;comments              \n",
      "      \n",
      "                \n",
      "      11.      Windyquery: A non-blocking Python PostgreSQL query builder (pypi.org)\n",
      "        31 points by asiftr 5 hours ago  | hide | 17&nbsp;comments              \n",
      "      \n",
      "                \n",
      "      12.      US passes emergency waiver over fuel pipeline cyber-attack (bbc.com)\n",
      "        544 points by selfsimilar 11 hours ago  | hide | 362&nbsp;comments              \n",
      "      \n",
      "                \n",
      "      13.      Objective-S: architecture-oriented language based on Smalltalk and Objective-C (objective.st)\n",
      "        93 points by ingve 12 hours ago  | hide | 32&nbsp;comments              \n",
      "      \n",
      "                \n",
      "      14.      PocketPCR (gaudi.ch)\n",
      "        109 points by _Microft 15 hours ago  | hide | 24&nbsp;comments              \n",
      "      \n",
      "                \n",
      "      15.      The global chip shortage is starting to have consequences (cnbc.com)\n",
      "        559 points by giuliomagnifico 21 hours ago  | hide | 636&nbsp;comments              \n",
      "      \n",
      "                \n",
      "      16.      The Syslog Hell (bozho.net)\n",
      "        5 points by rdpintqogeogsaa 34 minutes ago  | hide | discuss              \n",
      "      \n",
      "                \n",
      "      17.      Who Is “Public” Data For? (lithub.com)\n",
      "        19 points by zverok 7 hours ago  | hide | 10&nbsp;comments              \n",
      "      \n",
      "                \n",
      "      18.      Why do we buy into the 'cult' of overwork? (bbc.com)\n",
      "        306 points by pseudolus 13 hours ago  | hide | 308&nbsp;comments              \n",
      "      \n",
      "                \n",
      "      19.      The Contemplative Life: the monastic cowl (2020) (vestoj.com)\n",
      "        11 points by one-possibility 5 hours ago  | hide | 2&nbsp;comments              \n",
      "      \n",
      "                \n",
      "      20.      Shelljs – Portable Unix shell commands for Node.js (github.com/shelljs)\n",
      "        111 points by chetangoti 15 hours ago  | hide | 53&nbsp;comments              \n",
      "      \n",
      "                \n",
      "      21.      The Lives of Napoleon (historytoday.com)\n",
      "        23 points by samclemens 8 hours ago  | hide | 16&nbsp;comments              \n",
      "      \n",
      "                \n",
      "      22.      Why is it a bad idea to filter by zeroing out FFT bins? (2020) (stackexchange.com)\n",
      "        74 points by bcaa7f3a8bbc 15 hours ago  | hide | 33&nbsp;comments              \n",
      "      \n",
      "                \n",
      "      23.      Show HN: RonDB – fast key-value database in the cloud (rondb.com)\n",
      "        98 points by jamesblonde 14 hours ago  | hide | 31&nbsp;comments              \n",
      "      \n",
      "                \n",
      "      24.      Eleven Ways of Smelling a Tree (2020) (emergencemagazine.org)\n",
      "        44 points by royalroad 11 hours ago  | hide | 7&nbsp;comments              \n",
      "      \n",
      "                \n",
      "      25.      The Libcurl Transfer State Machine (haxx.se)\n",
      "        27 points by TangerineDream 3 hours ago  | hide | 3&nbsp;comments              \n",
      "      \n",
      "                \n",
      "      26.      Commodore’s Assemblers: Overview (pagetable.com)\n",
      "        48 points by ingve 7 hours ago  | hide | 7&nbsp;comments              \n",
      "      \n",
      "                \n",
      "      27.      Introduction to Security Good Practices (dataswamp.org)\n",
      "        88 points by zdw 15 hours ago  | hide | 16&nbsp;comments              \n",
      "      \n",
      "                \n",
      "      28.      Editorial: Creativity Lost (1978) (scitation.org)\n",
      "        15 points by agarttha 7 hours ago  | hide | discuss              \n",
      "      \n",
      "                \n",
      "      29.      The mortifying ordeal of pairing all day (simplermachines.com)\n",
      "        120 points by tomcam 9 hours ago  | hide | 89&nbsp;comments              \n",
      "      \n",
      "                \n",
      "      30.      BuildZoom (better way to build custom homes) is hiring a Principal Engineer (lever.co)\n",
      "        14 hours ago | hide      \n",
      "      \n",
      "            More\n",
      "  \n",
      "\n",
      "Guidelines\n",
      "        | FAQ\n",
      "        | Lists\n",
      "        | API\n",
      "        | Security\n",
      "        | Legal\n",
      "        | Apply to YC\n",
      "        | ContactSearch:\n",
      "          \n",
      "            \n",
      "      \n",
      "\n"
     ]
    }
   ],
   "source": [
    "import re\n",
    "\n",
    "# Remove HTML tags using RegEx\n",
    "pattern = re.compile(r'<.*?>')  # tags look like <...>\n",
    "print(pattern.sub('', r.text))  # replace them with blank"
   ]
  },
  {
   "cell_type": "code",
   "execution_count": 3,
   "metadata": {},
   "outputs": [
    {
     "name": "stdout",
     "output_type": "stream",
     "text": [
      "\n",
      "        \n",
      "          \n",
      "        Hacker News\n",
      "        \n",
      "                  Hacker News\n",
      "              new | past | comments | ask | show | jobs | submit            \n",
      "                              login\n",
      "                          \n",
      "              \n",
      "\n",
      "              \n",
      "      1.      The word “decide” has deadly origins (etymologynerd.com)\n",
      "        151 points by bribri 4 hours ago  | hide | 46 comments              \n",
      "      \n",
      "                \n",
      "      2.      The Animal Is Tired (robinhobb.com)\n",
      "        815 points by montenegrohugo 12 hours ago  | hide | 234 comments              \n",
      "      \n",
      "                \n",
      "      3.      Teeing, a hidden gem in the Java API (frankel.ch)\n",
      "        138 points by sidcool 5 hours ago  | hide | 40 comments              \n",
      "      \n",
      "                \n",
      "      4.      Automatically transcribe an interview, meeting or video (voicedocs.com)\n",
      "        31 points by MajidMM 2 hours ago  | hide | 27 comments              \n",
      "      \n",
      "                \n",
      "      5.      The Ultimate Guide to Inflation (lynalden.com)\n",
      "        542 points by jger15 14 hours ago  | hide | 264 comments              \n",
      "      \n",
      "                \n",
      "      6.      Why I Love Coding (2012) (henrikwarne.com)\n",
      "        152 points by spideymans 9 hours ago  | hide | 52 comments              \n",
      "      \n",
      "                \n",
      "      7.      Simple bank shutdown goes awry, leaving customers without account access (theverge.com)\n",
      "        200 points by Kye 12 hours ago  | hide | 125 comments              \n",
      "      \n",
      "                \n",
      "      8.      Why Aren’t SMS Interventions Designed to Boost College Success Working at Scale? (behavioralscientist.org)\n",
      "        13 points by vitabenes 2 hours ago  | hide | 4 comments              \n",
      "      \n",
      "                \n",
      "      9.      Adding ANSI C11 C compiler to D so it can import and compile C files directly (github.com/dlang)\n",
      "        78 points by ingve 6 hours ago  | hide | 39 comments              \n",
      "      \n",
      "                \n",
      "      10.      The Hypnotic World of Degenerate Spirals (dogatekin.com)\n",
      "        165 points by thetrustworthy 12 hours ago  | hide | 27 comments              \n",
      "      \n",
      "                \n",
      "      11.      Windyquery: A non-blocking Python PostgreSQL query builder (pypi.org)\n",
      "        31 points by asiftr 5 hours ago  | hide | 17 comments              \n",
      "      \n",
      "                \n",
      "      12.      US passes emergency waiver over fuel pipeline cyber-attack (bbc.com)\n",
      "        544 points by selfsimilar 11 hours ago  | hide | 362 comments              \n",
      "      \n",
      "                \n",
      "      13.      Objective-S: architecture-oriented language based on Smalltalk and Objective-C (objective.st)\n",
      "        93 points by ingve 12 hours ago  | hide | 32 comments              \n",
      "      \n",
      "                \n",
      "      14.      PocketPCR (gaudi.ch)\n",
      "        109 points by _Microft 15 hours ago  | hide | 24 comments              \n",
      "      \n",
      "                \n",
      "      15.      The global chip shortage is starting to have consequences (cnbc.com)\n",
      "        559 points by giuliomagnifico 21 hours ago  | hide | 636 comments              \n",
      "      \n",
      "                \n",
      "      16.      The Syslog Hell (bozho.net)\n",
      "        5 points by rdpintqogeogsaa 34 minutes ago  | hide | discuss              \n",
      "      \n",
      "                \n",
      "      17.      Who Is “Public” Data For? (lithub.com)\n",
      "        19 points by zverok 7 hours ago  | hide | 10 comments              \n",
      "      \n",
      "                \n",
      "      18.      Why do we buy into the 'cult' of overwork? (bbc.com)\n",
      "        306 points by pseudolus 13 hours ago  | hide | 308 comments              \n",
      "      \n",
      "                \n",
      "      19.      The Contemplative Life: the monastic cowl (2020) (vestoj.com)\n",
      "        11 points by one-possibility 5 hours ago  | hide | 2 comments              \n",
      "      \n",
      "                \n",
      "      20.      Shelljs – Portable Unix shell commands for Node.js (github.com/shelljs)\n",
      "        111 points by chetangoti 15 hours ago  | hide | 53 comments              \n",
      "      \n",
      "                \n",
      "      21.      The Lives of Napoleon (historytoday.com)\n",
      "        23 points by samclemens 8 hours ago  | hide | 16 comments              \n",
      "      \n",
      "                \n",
      "      22.      Why is it a bad idea to filter by zeroing out FFT bins? (2020) (stackexchange.com)\n",
      "        74 points by bcaa7f3a8bbc 15 hours ago  | hide | 33 comments              \n",
      "      \n",
      "                \n",
      "      23.      Show HN: RonDB – fast key-value database in the cloud (rondb.com)\n",
      "        98 points by jamesblonde 14 hours ago  | hide | 31 comments              \n",
      "      \n",
      "                \n",
      "      24.      Eleven Ways of Smelling a Tree (2020) (emergencemagazine.org)\n",
      "        44 points by royalroad 11 hours ago  | hide | 7 comments              \n",
      "      \n",
      "                \n",
      "      25.      The Libcurl Transfer State Machine (haxx.se)\n",
      "        27 points by TangerineDream 3 hours ago  | hide | 3 comments              \n",
      "      \n",
      "                \n",
      "      26.      Commodore’s Assemblers: Overview (pagetable.com)\n",
      "        48 points by ingve 7 hours ago  | hide | 7 comments              \n",
      "      \n",
      "                \n",
      "      27.      Introduction to Security Good Practices (dataswamp.org)\n",
      "        88 points by zdw 15 hours ago  | hide | 16 comments              \n",
      "      \n",
      "                \n",
      "      28.      Editorial: Creativity Lost (1978) (scitation.org)\n",
      "        15 points by agarttha 7 hours ago  | hide | discuss              \n",
      "      \n",
      "                \n",
      "      29.      The mortifying ordeal of pairing all day (simplermachines.com)\n",
      "        120 points by tomcam 9 hours ago  | hide | 89 comments              \n",
      "      \n",
      "                \n",
      "      30.      BuildZoom (better way to build custom homes) is hiring a Principal Engineer (lever.co)\n",
      "        14 hours ago | hide      \n",
      "      \n",
      "            More\n",
      "  \n",
      "\n",
      "Guidelines\n",
      "        | FAQ\n",
      "        | Lists\n",
      "        | API\n",
      "        | Security\n",
      "        | Legal\n",
      "        | Apply to YC\n",
      "        | ContactSearch:\n",
      "          \n",
      "            \n",
      "      \n",
      "\n"
     ]
    }
   ],
   "source": [
    "from bs4 import BeautifulSoup\n",
    "\n",
    "# Remove HTML tags using Beautiful Soup library\n",
    "soup = BeautifulSoup(r.text, \"html5lib\")\n",
    "print(soup.get_text())"
   ]
  },
  {
   "cell_type": "code",
   "execution_count": 4,
   "metadata": {
    "scrolled": true
   },
   "outputs": [
    {
     "data": {
      "text/plain": [
       "<tr class=\"athing\" id=\"27103230\">\n",
       "      <td align=\"right\" class=\"title\" valign=\"top\"><span class=\"rank\">1.</span></td>      <td class=\"votelinks\" valign=\"top\"><center><a href=\"vote?id=27103230&amp;how=up&amp;goto=news\" id=\"up_27103230\"><div class=\"votearrow\" title=\"upvote\"></div></a></center></td><td class=\"title\"><a class=\"storylink\" href=\"https://www.etymologynerd.com/blog/choices\">The word “decide” has deadly origins</a><span class=\"sitebit comhead\"> (<a href=\"from?site=etymologynerd.com\"><span class=\"sitestr\">etymologynerd.com</span></a>)</span></td></tr>"
      ]
     },
     "execution_count": 4,
     "metadata": {},
     "output_type": "execute_result"
    }
   ],
   "source": [
    "# Find all articles\n",
    "summaries = soup.find_all(\"tr\", class_=\"athing\")\n",
    "summaries[0]"
   ]
  },
  {
   "cell_type": "code",
   "execution_count": null,
   "metadata": {},
   "outputs": [],
   "source": [
    "# Extract title\n",
    "summaries[0].find(\"a\", class_=\"storylink\").get_text().strip()"
   ]
  },
  {
   "cell_type": "code",
   "execution_count": null,
   "metadata": {},
   "outputs": [],
   "source": [
    "# Find all articles, extract titles\n",
    "articles = []\n",
    "summaries = soup.find_all(\"tr\", class_=\"athing\")\n",
    "for summary in summaries:\n",
    "    title = summary.find(\"a\", class_=\"storylink\").get_text().strip()\n",
    "    articles.append((title))\n",
    "\n",
    "print(len(articles), \"Article summaries found. Sample:\")\n",
    "print(articles[0])"
   ]
  },
  {
   "cell_type": "markdown",
   "metadata": {
    "collapsed": true
   },
   "source": [
    "## Normalization"
   ]
  },
  {
   "cell_type": "markdown",
   "metadata": {},
   "source": [
    "### Case Normalization"
   ]
  },
  {
   "cell_type": "code",
   "execution_count": 5,
   "metadata": {},
   "outputs": [
    {
     "name": "stdout",
     "output_type": "stream",
     "text": [
      "The first time you see The Second Renaissance it may look boring. Look at it at least twice and definitely watch part 2. It will change your view of the matrix. Are the human people the ones who started the war ? Is AI a bad thing ?\n"
     ]
    }
   ],
   "source": [
    "# Sample text\n",
    "text = \"The first time you see The Second Renaissance it may look boring. Look at it at least twice and definitely watch part 2. It will change your view of the matrix. Are the human people the ones who started the war ? Is AI a bad thing ?\"\n",
    "print(text)"
   ]
  },
  {
   "cell_type": "code",
   "execution_count": 6,
   "metadata": {},
   "outputs": [
    {
     "name": "stdout",
     "output_type": "stream",
     "text": [
      "the first time you see the second renaissance it may look boring. look at it at least twice and definitely watch part 2. it will change your view of the matrix. are the human people the ones who started the war ? is ai a bad thing ?\n"
     ]
    }
   ],
   "source": [
    "# Convert to lowercase\n",
    "text = text.lower() \n",
    "print(text)"
   ]
  },
  {
   "cell_type": "markdown",
   "metadata": {},
   "source": [
    "### Punctuation Removal"
   ]
  },
  {
   "cell_type": "code",
   "execution_count": null,
   "metadata": {},
   "outputs": [],
   "source": [
    "import re\n",
    "\n",
    "# Remove punctuation characters\n",
    "text = re.sub(r\"[^a-zA-Z0-9]\", \" \", text) \n",
    "print(text)"
   ]
  },
  {
   "cell_type": "markdown",
   "metadata": {},
   "source": [
    "## Tokenization"
   ]
  },
  {
   "cell_type": "code",
   "execution_count": 7,
   "metadata": {},
   "outputs": [
    {
     "name": "stdout",
     "output_type": "stream",
     "text": [
      "['the', 'first', 'time', 'you', 'see', 'the', 'second', 'renaissance', 'it', 'may', 'look', 'boring.', 'look', 'at', 'it', 'at', 'least', 'twice', 'and', 'definitely', 'watch', 'part', '2.', 'it', 'will', 'change', 'your', 'view', 'of', 'the', 'matrix.', 'are', 'the', 'human', 'people', 'the', 'ones', 'who', 'started', 'the', 'war', '?', 'is', 'ai', 'a', 'bad', 'thing', '?']\n"
     ]
    }
   ],
   "source": [
    "# Split text into tokens (words)\n",
    "words = text.split()\n",
    "print(words)"
   ]
  },
  {
   "cell_type": "markdown",
   "metadata": {},
   "source": [
    "### NLTK: Natural Language ToolKit"
   ]
  },
  {
   "cell_type": "code",
   "execution_count": 8,
   "metadata": {},
   "outputs": [],
   "source": [
    "import os\n",
    "import nltk\n",
    "nltk.data.path.append(os.path.join(os.getcwd(), \"nltk_data\"))"
   ]
  },
  {
   "cell_type": "code",
   "execution_count": 9,
   "metadata": {},
   "outputs": [
    {
     "name": "stdout",
     "output_type": "stream",
     "text": [
      "Dr. Smith graduated from the University of Washington. He later started an analytics firm called Lux, which catered to enterprise customers.\n"
     ]
    }
   ],
   "source": [
    "# Another sample text\n",
    "text = \"Dr. Smith graduated from the University of Washington. He later started an analytics firm called Lux, which catered to enterprise customers.\"\n",
    "print(text)"
   ]
  },
  {
   "cell_type": "code",
   "execution_count": 10,
   "metadata": {},
   "outputs": [
    {
     "name": "stdout",
     "output_type": "stream",
     "text": [
      "['Dr.', 'Smith', 'graduated', 'from', 'the', 'University', 'of', 'Washington', '.', 'He', 'later', 'started', 'an', 'analytics', 'firm', 'called', 'Lux', ',', 'which', 'catered', 'to', 'enterprise', 'customers', '.']\n"
     ]
    }
   ],
   "source": [
    "from nltk.tokenize import word_tokenize\n",
    "\n",
    "# Split text into words using NLTK\n",
    "words = word_tokenize(text)\n",
    "print(words)"
   ]
  },
  {
   "cell_type": "code",
   "execution_count": 11,
   "metadata": {},
   "outputs": [
    {
     "name": "stdout",
     "output_type": "stream",
     "text": [
      "['Dr. Smith graduated from the University of Washington.', 'He later started an analytics firm called Lux, which catered to enterprise customers.']\n"
     ]
    }
   ],
   "source": [
    "from nltk.tokenize import sent_tokenize\n",
    "\n",
    "# Split text into sentences\n",
    "sentences = sent_tokenize(text)\n",
    "print(sentences)"
   ]
  },
  {
   "cell_type": "code",
   "execution_count": 12,
   "metadata": {},
   "outputs": [
    {
     "name": "stdout",
     "output_type": "stream",
     "text": [
      "['i', 'me', 'my', 'myself', 'we', 'our', 'ours', 'ourselves', 'you', \"you're\", \"you've\", \"you'll\", \"you'd\", 'your', 'yours', 'yourself', 'yourselves', 'he', 'him', 'his', 'himself', 'she', \"she's\", 'her', 'hers', 'herself', 'it', \"it's\", 'its', 'itself', 'they', 'them', 'their', 'theirs', 'themselves', 'what', 'which', 'who', 'whom', 'this', 'that', \"that'll\", 'these', 'those', 'am', 'is', 'are', 'was', 'were', 'be', 'been', 'being', 'have', 'has', 'had', 'having', 'do', 'does', 'did', 'doing', 'a', 'an', 'the', 'and', 'but', 'if', 'or', 'because', 'as', 'until', 'while', 'of', 'at', 'by', 'for', 'with', 'about', 'against', 'between', 'into', 'through', 'during', 'before', 'after', 'above', 'below', 'to', 'from', 'up', 'down', 'in', 'out', 'on', 'off', 'over', 'under', 'again', 'further', 'then', 'once', 'here', 'there', 'when', 'where', 'why', 'how', 'all', 'any', 'both', 'each', 'few', 'more', 'most', 'other', 'some', 'such', 'no', 'nor', 'not', 'only', 'own', 'same', 'so', 'than', 'too', 'very', 's', 't', 'can', 'will', 'just', 'don', \"don't\", 'should', \"should've\", 'now', 'd', 'll', 'm', 'o', 're', 've', 'y', 'ain', 'aren', \"aren't\", 'couldn', \"couldn't\", 'didn', \"didn't\", 'doesn', \"doesn't\", 'hadn', \"hadn't\", 'hasn', \"hasn't\", 'haven', \"haven't\", 'isn', \"isn't\", 'ma', 'mightn', \"mightn't\", 'mustn', \"mustn't\", 'needn', \"needn't\", 'shan', \"shan't\", 'shouldn', \"shouldn't\", 'wasn', \"wasn't\", 'weren', \"weren't\", 'won', \"won't\", 'wouldn', \"wouldn't\"]\n"
     ]
    }
   ],
   "source": [
    "# List stop words\n",
    "from nltk.corpus import stopwords\n",
    "print(stopwords.words(\"english\"))"
   ]
  },
  {
   "cell_type": "code",
   "execution_count": 13,
   "metadata": {},
   "outputs": [
    {
     "name": "stdout",
     "output_type": "stream",
     "text": [
      "['the', 'first', 'time', 'you', 'see', 'the', 'second', 'renaissance', 'it', 'may', 'look', 'boring', 'look', 'at', 'it', 'at', 'least', 'twice', 'and', 'definitely', 'watch', 'part', '2', 'it', 'will', 'change', 'your', 'view', 'of', 'the', 'matrix', 'are', 'the', 'human', 'people', 'the', 'ones', 'who', 'started', 'the', 'war', 'is', 'ai', 'a', 'bad', 'thing']\n"
     ]
    }
   ],
   "source": [
    "# Reset text\n",
    "text = \"The first time you see The Second Renaissance it may look boring. Look at it at least twice and definitely watch part 2. It will change your view of the matrix. Are the human people the ones who started the war ? Is AI a bad thing ?\"\n",
    "\n",
    "# Normalize it\n",
    "text = re.sub(r\"[^a-zA-Z0-9]\", \" \", text.lower())\n",
    "\n",
    "# Tokenize it\n",
    "words = text.split()\n",
    "print(words)"
   ]
  },
  {
   "cell_type": "code",
   "execution_count": 14,
   "metadata": {},
   "outputs": [
    {
     "name": "stdout",
     "output_type": "stream",
     "text": [
      "['first', 'time', 'see', 'second', 'renaissance', 'may', 'look', 'boring', 'look', 'least', 'twice', 'definitely', 'watch', 'part', '2', 'change', 'view', 'matrix', 'human', 'people', 'ones', 'started', 'war', 'ai', 'bad', 'thing']\n"
     ]
    }
   ],
   "source": [
    "# Remove stop words\n",
    "words = [w for w in words if w not in stopwords.words(\"english\")]\n",
    "print(words)"
   ]
  },
  {
   "cell_type": "markdown",
   "metadata": {},
   "source": [
    "### Sentence Parsing"
   ]
  },
  {
   "cell_type": "code",
   "execution_count": 15,
   "metadata": {},
   "outputs": [
    {
     "name": "stdout",
     "output_type": "stream",
     "text": [
      "(S\n",
      "  (NP I)\n",
      "  (VP\n",
      "    (VP (V shot) (NP (Det an) (N elephant)))\n",
      "    (PP (P in) (NP (Det my) (N pajamas)))))\n",
      "(S\n",
      "  (NP I)\n",
      "  (VP\n",
      "    (V shot)\n",
      "    (NP (Det an) (N elephant) (PP (P in) (NP (Det my) (N pajamas))))))\n"
     ]
    }
   ],
   "source": [
    "import nltk\n",
    "\n",
    "# Define a custom grammar\n",
    "my_grammar = nltk.CFG.fromstring(\"\"\"\n",
    "S -> NP VP\n",
    "PP -> P NP\n",
    "NP -> Det N | Det N PP | 'I'\n",
    "VP -> V NP | VP PP\n",
    "Det -> 'an' | 'my'\n",
    "N -> 'elephant' | 'pajamas'\n",
    "V -> 'shot'\n",
    "P -> 'in'\n",
    "\"\"\")\n",
    "parser = nltk.ChartParser(my_grammar)\n",
    "\n",
    "# Parse a sentence\n",
    "sentence = word_tokenize(\"I shot an elephant in my pajamas\")\n",
    "for tree in parser.parse(sentence):\n",
    "    print(tree)"
   ]
  },
  {
   "cell_type": "markdown",
   "metadata": {},
   "source": [
    "## Stemming & Lemmatization\n",
    "\n",
    "### Stemming"
   ]
  },
  {
   "cell_type": "code",
   "execution_count": 16,
   "metadata": {},
   "outputs": [
    {
     "name": "stdout",
     "output_type": "stream",
     "text": [
      "['first', 'time', 'see', 'second', 'renaiss', 'may', 'look', 'bore', 'look', 'least', 'twice', 'definit', 'watch', 'part', '2', 'chang', 'view', 'matrix', 'human', 'peopl', 'one', 'start', 'war', 'ai', 'bad', 'thing']\n"
     ]
    }
   ],
   "source": [
    "from nltk.stem.porter import PorterStemmer\n",
    "\n",
    "# Reduce words to their stems\n",
    "stemmed = [PorterStemmer().stem(w) for w in words]\n",
    "print(stemmed)"
   ]
  },
  {
   "cell_type": "markdown",
   "metadata": {},
   "source": [
    "### Lemmatization"
   ]
  },
  {
   "cell_type": "code",
   "execution_count": 17,
   "metadata": {},
   "outputs": [
    {
     "name": "stdout",
     "output_type": "stream",
     "text": [
      "['first', 'time', 'see', 'second', 'renaissance', 'may', 'look', 'boring', 'look', 'least', 'twice', 'definitely', 'watch', 'part', '2', 'change', 'view', 'matrix', 'human', 'people', 'one', 'started', 'war', 'ai', 'bad', 'thing']\n"
     ]
    }
   ],
   "source": [
    "from nltk.stem.wordnet import WordNetLemmatizer\n",
    "\n",
    "# Reduce words to their root form\n",
    "lemmed = [WordNetLemmatizer().lemmatize(w) for w in words]\n",
    "print(lemmed)"
   ]
  },
  {
   "cell_type": "code",
   "execution_count": 18,
   "metadata": {},
   "outputs": [
    {
     "name": "stdout",
     "output_type": "stream",
     "text": [
      "['first', 'time', 'see', 'second', 'renaissance', 'may', 'look', 'bore', 'look', 'least', 'twice', 'definitely', 'watch', 'part', '2', 'change', 'view', 'matrix', 'human', 'people', 'one', 'start', 'war', 'ai', 'bad', 'thing']\n"
     ]
    }
   ],
   "source": [
    "# Lemmatize verbs by specifying pos\n",
    "lemmed = [WordNetLemmatizer().lemmatize(w, pos='v') for w in lemmed]\n",
    "print(lemmed)"
   ]
  },
  {
   "cell_type": "code",
   "execution_count": null,
   "metadata": {},
   "outputs": [],
   "source": []
  }
 ],
 "metadata": {
  "kernelspec": {
   "display_name": "Python 3",
   "language": "python",
   "name": "python3"
  },
  "language_info": {
   "codemirror_mode": {
    "name": "ipython",
    "version": 3
   },
   "file_extension": ".py",
   "mimetype": "text/x-python",
   "name": "python",
   "nbconvert_exporter": "python",
   "pygments_lexer": "ipython3",
   "version": "3.6.3"
  }
 },
 "nbformat": 4,
 "nbformat_minor": 2
}
